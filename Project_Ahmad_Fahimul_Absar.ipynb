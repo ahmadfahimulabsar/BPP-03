{
  "nbformat": 4,
  "nbformat_minor": 0,
  "metadata": {
    "colab": {
      "provenance": []
    },
    "kernelspec": {
      "name": "python3",
      "display_name": "Python 3"
    },
    "language_info": {
      "name": "python"
    }
  },
  "cells": [
    {
      "cell_type": "code",
      "execution_count": null,
      "metadata": {
        "id": "YOdZPi3iD9x8"
      },
      "outputs": [],
      "source": [
        "from datetime import datetime\n",
        "\n",
        "event_file = \"events.csv\"\n",
        "attendee_file = \"attendees.csv\"\n",
        "\n",
        "def create_event():\n",
        "    f = open(event_file, \"a\")\n",
        "    if f.tell() == 0:\n",
        "        f.write(\"Event Name,Date and Time,Location,Description\\n\")\n",
        "    f.close()"
      ]
    },
    {
      "cell_type": "code",
      "source": [
        "    event_name = input(\"Enter event name: \")\n",
        "    event_date = input(\"Enter event date and time (YYYY-MM-DD HH:MM): \")\n",
        "    location = input(\"Enter location: \")\n",
        "    description = input(\"Enter description: \")\n",
        "\n",
        "    f = open(event_file, \"a\")\n",
        "    f.write(f\"{event_name},{event_date},{location},{description}\\n\")\n",
        "    f.close()\n",
        "    print(\"Event created successfully!\")"
      ],
      "metadata": {
        "id": "geSoR4HVEKg6"
      },
      "execution_count": null,
      "outputs": []
    },
    {
      "cell_type": "code",
      "source": [
        "def view_events():\n",
        "    print(\"\\nList of Events:\")\n",
        "\n",
        "    f = open(event_file, \"r\")\n",
        "    for line in f:\n",
        "        print(line.strip())\n",
        "    f.close()"
      ],
      "metadata": {
        "id": "_LjOwZf7ETn5"
      },
      "execution_count": null,
      "outputs": []
    },
    {
      "cell_type": "code",
      "source": [
        "def delete_event():\n",
        "    event_name = input(\"Enter event name to delete: \")\n",
        "\n",
        "    f = open(event_file, \"r\")\n",
        "    lines = f.readlines()\n",
        "    f.close()\n",
        "\n",
        "    f = open(event_file, \"w\")\n",
        "    for line in lines:\n",
        "        if line.split(\",\")[0] != event_name:\n",
        "            f.write(line)\n",
        "    f.close()\n",
        "    print(\"Event deleted successfully!\")"
      ],
      "metadata": {
        "id": "MEzMOhpeJPsF"
      },
      "execution_count": null,
      "outputs": []
    },
    {
      "cell_type": "code",
      "source": [
        "def add_attendee(event_name):\n",
        "    f = open(attendee_file, \"a\")\n",
        "    if f.tell() == 0:\n",
        "        f.write(\"Event Name,Attendee Name,Email,RSVP Status\\n\")\n",
        "    f.close()\n",
        "\n",
        "    event_name = input(\"Enter event name: \")\n",
        "    attendee_name = input(\"Enter attendee name: \")\n",
        "    email = input(\"Enter email: \")\n",
        "    rsvp = input(\"Enter RSVP status (Confirmed/Declined/Maybe): \")\n",
        "\n",
        "    f = open(attendee_file, \"a\")\n",
        "    f.write(f\"{event_name},{attendee_name},{email},{rsvp}\\n\")\n",
        "    f.close()\n",
        "    print(\"Attendee added successfully!\")"
      ],
      "metadata": {
        "id": "NeteJ1jTEYpS"
      },
      "execution_count": null,
      "outputs": []
    },
    {
      "cell_type": "code",
      "source": [
        "def view_attendees():\n",
        "    event_name = input(\"Enter event name to view attendees: \")\n",
        "    print(f\"\\nAttendees for {event_name}:\")\n",
        "\n",
        "    f = open(attendee_file, \"r\")\n",
        "    for line in f:\n",
        "        if line.startswith(event_name):\n",
        "            print(line.strip())\n",
        "    f.close()\n",
        "\n",
        "def remove_attendee():\n",
        "    event_name = input(\"Enter event name: \")\n",
        "    attendee_name = input(\"Enter attendee name to remove: \")\n",
        "\n",
        "    f = open(attendee_file, \"r\")\n",
        "    lines = f.readlines()\n",
        "    f.close()\n",
        "\n",
        "    f = open(attendee_file, \"w\")\n",
        "    for line in lines:\n",
        "        parts = line.split(\",\")\n",
        "        if not (parts[0] == event_name and parts[1] == attendee_name):\n",
        "            f.write(line)\n",
        "    f.close()\n",
        "    print(\"Attendee removed successfully!\")"
      ],
      "metadata": {
        "id": "CMULOjZlFinA"
      },
      "execution_count": null,
      "outputs": []
    },
    {
      "cell_type": "code",
      "source": [
        "def list_upcoming_events():\n",
        "    print(\"\\nUpcoming Events:\")\n",
        "\n",
        "    f = open(event_file, \"r\")\n",
        "    for line in f:\n",
        "        try:\n",
        "            parts = line.split(\",\")\n",
        "            event_date = datetime.strptime(parts[1], \"%Y-%m-%d %H:%M\")\n",
        "            if event_date > datetime.now():\n",
        "                print(line.strip())\n",
        "        except:\n",
        "            continue\n",
        "    f.close()\n",
        "\n",
        "def send_reminders():\n",
        "    print(\"\\nReminders for events in the next 24 hours:\")\n",
        "    f = open(event_file, \"r\")\n",
        "    for line in f:\n",
        "        try:\n",
        "            parts = line.split(\",\")\n",
        "            event_date = datetime.strptime(parts[1], \"%Y-%m-%d %H:%M\")\n",
        "            if 0 <= (event_date - datetime.now()).total_seconds() <= 86400:\n",
        "                print(f\"Reminder: {parts[0]} at {parts[1]} in {parts[2].strip()}.\")\n",
        "        except:\n",
        "            continue\n",
        "    f.close()"
      ],
      "metadata": {
        "id": "id9SyYXjEc3K"
      },
      "execution_count": null,
      "outputs": []
    },
    {
      "cell_type": "code",
      "source": [
        "def main_menu():\n",
        "    while True:\n",
        "        print(\"\\nMenu:\")\n",
        "        print(\"1. Create Event\")\n",
        "        print(\"2. View Events\")\n",
        "        print(\"3. Delete Event\")\n",
        "        print(\"4. Add Attendee\")\n",
        "        print(\"5. View Attendees\")\n",
        "        print(\"6. Remove Attendee\")\n",
        "        print(\"7. List Upcoming Events\")\n",
        "        print(\"8. Send Reminders\")\n",
        "        print(\"9. Exit\")\n",
        "\n",
        "        choice = input(\"Choose an option: \")\n",
        "\n",
        "        if choice == \"1\":\n",
        "            create_event()\n",
        "        elif choice == \"2\":\n",
        "            view_events()\n",
        "        elif choice == \"3\":\n",
        "            delete_event()\n",
        "        elif choice == \"4\":\n",
        "            add_attendee()\n",
        "        elif choice == \"5\":\n",
        "            view_attendees()\n",
        "        elif choice == \"6\":\n",
        "            remove_attendee()\n",
        "        elif choice == \"7\":\n",
        "            list_upcoming_events()\n",
        "        elif choice == \"8\":\n",
        "            send_reminders()\n",
        "        elif choice == \"9\":\n",
        "            print(\"Goodbye!\")\n",
        "            break\n",
        "        else:\n",
        "            print(\"Invalid choice. Try again.\")\n",
        "\n",
        "if __name__ == \"__main__\":\n",
        "    main_menu()"
      ],
      "metadata": {
        "id": "WQaVnJhvEfLD"
      },
      "execution_count": null,
      "outputs": []
    }
  ]
}
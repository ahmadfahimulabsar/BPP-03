{
  "nbformat": 4,
  "nbformat_minor": 0,
  "metadata": {
    "colab": {
      "provenance": []
    },
    "kernelspec": {
      "name": "python3",
      "display_name": "Python 3"
    },
    "language_info": {
      "name": "python"
    }
  },
  "cells": [
    {
      "cell_type": "markdown",
      "source": [
        "**9. You are given a number. Write a Python program to print whether it is odd or even.**"
      ],
      "metadata": {
        "id": "2DH05LFvREgU"
      }
    },
    {
      "cell_type": "code",
      "source": [
        "x=(int) (input(\"Insert a Number\"))\n",
        "\n",
        "if x%2 == 0:\n",
        "  print(\"Even\")\n",
        "else:\n",
        "  print(\"Odd\")"
      ],
      "metadata": {
        "id": "T4qjb1aaRG9C"
      },
      "execution_count": null,
      "outputs": []
    },
    {
      "cell_type": "markdown",
      "source": [
        "**10 You are given three arms of a triangle. Write a Python program to find its area.**"
      ],
      "metadata": {
        "id": "M7NSVVR-R21v"
      }
    },
    {
      "cell_type": "code",
      "source": [
        "a=(int) (input(\"Insert First Arm: \"))\n",
        "b=(int) (input(\"Insert Second Arm: \"))\n",
        "c=(int) (input(\"Insert Third Arm: \"))\n",
        "\n",
        "s= (a+b+c)/2\n",
        "import math\n",
        "area= math.sqrt(s*(s-a)*(s-b)*(s-c))\n",
        "\n",
        "print(\"Area: \", area)"
      ],
      "metadata": {
        "colab": {
          "base_uri": "https://localhost:8080/"
        },
        "id": "3uqD_bE3R4Tv",
        "outputId": "c1990f6a-f1bf-415a-e578-ab2bdeb2a115"
      },
      "execution_count": null,
      "outputs": [
        {
          "output_type": "stream",
          "name": "stdout",
          "text": [
            "Insert First Arm: 12\n",
            "Insert Second Arm: 15\n",
            "Insert Third Arm: 12\n",
            "Area:  70.25622748198198\n"
          ]
        }
      ]
    },
    {
      "cell_type": "markdown",
      "source": [
        "**11. You are given a year. Write a Python program to print whether it is leap year or not.**\n"
      ],
      "metadata": {
        "id": "RA8BuJjITl2U"
      }
    },
    {
      "cell_type": "code",
      "source": [
        "a= (int)(input(\"Insert a Year: \"))\n",
        "\n",
        "if (a%4 == 0 and a%100 != 0) or (a%400 == 0):\n",
        "  print(\"Leap Year\")\n",
        "else:\n",
        "  print(\"Not a Leap Year\")"
      ],
      "metadata": {
        "colab": {
          "base_uri": "https://localhost:8080/"
        },
        "id": "ulvHLZi8ToUk",
        "outputId": "948c1668-7093-456a-c19c-0464122468e2"
      },
      "execution_count": null,
      "outputs": [
        {
          "output_type": "stream",
          "name": "stdout",
          "text": [
            "Insert a Year: 2002\n",
            "Not a Leap Year\n"
          ]
        }
      ]
    },
    {
      "cell_type": "markdown",
      "source": [
        "**12 You are given the coefficients a, b & c of a quadratic equation. Write a Python program to\n",
        "find its solution.**"
      ],
      "metadata": {
        "id": "B55X7omQUfLR"
      }
    },
    {
      "cell_type": "code",
      "source": [
        "a=(float) (input(\"Ënter a \"))\n",
        "b=(float) (input(\"Enter b \"))\n",
        "c=(float) (input(\"Enter c \"))\n",
        "\n",
        "discriminant = b**2 - 4*a*c\n",
        "\n",
        "if discriminant >= 0:\n",
        "  x1= (-b+math.sqrt(discriminant))/(2*a)\n",
        "  x2= (-b-math.sqrt(discriminant))/(2*a)\n",
        "  print (x1,x2)\n",
        "else:\n",
        "  print(\"No real solutions\")"
      ],
      "metadata": {
        "colab": {
          "base_uri": "https://localhost:8080/"
        },
        "id": "tmyTQQnAUkCK",
        "outputId": "c08e4695-785c-4aed-8fa8-9600725d2636"
      },
      "execution_count": null,
      "outputs": [
        {
          "output_type": "stream",
          "name": "stdout",
          "text": [
            "Ënter a 15\n",
            "Enter b 121\n",
            "Enter c 51\n",
            "-0.4461648430365955 -7.620501823630071\n"
          ]
        }
      ]
    },
    {
      "cell_type": "markdown",
      "source": [
        "**13. You are given the radius of a circle. Write a program to find the area of the square\n",
        "inscribed inside the circle.**"
      ],
      "metadata": {
        "id": "CtPchfWqVxIa"
      }
    },
    {
      "cell_type": "code",
      "source": [
        "x=(int)(input(\"Enter the radius: \"))\n",
        "\n",
        "Area= math.pi*x**2\n",
        "print(\"Area: \", Area)"
      ],
      "metadata": {
        "colab": {
          "base_uri": "https://localhost:8080/"
        },
        "id": "phkFmEM5VvAq",
        "outputId": "39c72f34-d6e1-4804-d6f4-b947f731ba74"
      },
      "execution_count": null,
      "outputs": [
        {
          "output_type": "stream",
          "name": "stdout",
          "text": [
            "Enter the radius: 15\n",
            "Area:  706.8583470577034\n"
          ]
        }
      ]
    },
    {
      "cell_type": "markdown",
      "source": [
        "**14 You are given the mark of a student. Write a program to find his grade. [0-39: F, 40-49: E,\n",
        "50-59: D, 60-69: C, 70-79: B, 80-100: A]**"
      ],
      "metadata": {
        "id": "OWo5uo-JWk3v"
      }
    },
    {
      "cell_type": "code",
      "source": [
        "x=(int)(input(\"Enter the Mark: \"))\n",
        "\n",
        "if x>=80 and x<=100:\n",
        "    print(\"Grade A\")\n",
        "elif x>=70 and x<=79:\n",
        "    print(\"Grade B\")\n",
        "elif x>=60 and x<=69:\n",
        "    print(\"Grade C\")\n",
        "elif x>=50 and x<=59:\n",
        "    print(\"Grade D\")\n",
        "elif x>=40 and x<=49:\n",
        "    print(\"Grade E\")\n",
        "elif x>=0 and x<=39:\n",
        "    print(\"Grade F\")\n",
        "else:\n",
        "    print(\"Invalid Mark\")"
      ],
      "metadata": {
        "colab": {
          "base_uri": "https://localhost:8080/"
        },
        "id": "gPeGF4bFWoMX",
        "outputId": "855de7b9-2516-48eb-9009-26039024ebc6"
      },
      "execution_count": null,
      "outputs": [
        {
          "output_type": "stream",
          "name": "stdout",
          "text": [
            "Enter the Mark: 50\n",
            "Grade D\n"
          ]
        }
      ]
    },
    {
      "cell_type": "markdown",
      "source": [
        "**15 You are given a number. Write a program to print whether it is prime or not.**"
      ],
      "metadata": {
        "id": "gMYPsA9iYatE"
      }
    },
    {
      "cell_type": "code",
      "source": [
        "x=(int)(input(\"Insert a Number: \"))\n",
        "divisor= 0\n",
        "for i in range(2,x):\n",
        "  if  (x%i==0):\n",
        "    divisor= divisor+1\n",
        "if divisor==0:\n",
        "  print(\"Prime\")\n",
        "else:\n",
        "  print(\"Not a Prime\")\n"
      ],
      "metadata": {
        "colab": {
          "base_uri": "https://localhost:8080/"
        },
        "id": "cdqSlPh5YedO",
        "outputId": "80dad844-bc44-4e38-d1de-0419ef13780a"
      },
      "execution_count": null,
      "outputs": [
        {
          "output_type": "stream",
          "name": "stdout",
          "text": [
            "Insert a Number: 3\n",
            "Prime\n"
          ]
        }
      ]
    },
    {
      "cell_type": "markdown",
      "source": [
        "**16 You are given a range defined by two integers. Write a program to print those which are\n",
        "leap years in the range.**"
      ],
      "metadata": {
        "id": "dqoqcNEiaZnS"
      }
    },
    {
      "cell_type": "code",
      "source": [
        "start_range=(int)(input(\"Enter the starting Year of the range: \"))\n",
        "end_range=(int)(input(\"Enter the ending number of the range: \"))\n",
        "print (\"Leap Year withing the range\", start_range, \"to\", end_range, \"are:\" )\n",
        "\n",
        "for year in range(start_range, end_range + 1):\n",
        "\n",
        "  if (year%4 == 0 and year%100 != 0) or (year%400 == 0):\n",
        "    print(year)\n",
        "\n",
        "\n",
        "\n"
      ],
      "metadata": {
        "id": "88wyK-v8NM-3"
      },
      "execution_count": null,
      "outputs": []
    },
    {
      "cell_type": "markdown",
      "source": [
        "**17 You are given a range defined by two integers. Write a program to print the prime\n",
        "numbers inside the range**"
      ],
      "metadata": {
        "id": "faWHrS7wo6Wp"
      }
    },
    {
      "cell_type": "code",
      "source": [
        "start_range = (int)(input(\"Enter the starting number of the range: \"))\n",
        "end_range = (int)(input(\"Enter the ending number of the range: \"))\n",
        "\n",
        "print(\"Prime numbers within the range\", start_range, \"to\", end_range, \"are:\")\n",
        "\n",
        "for num in range(start_range, end_range + 1):\n",
        "  divisor = 0\n",
        "  for i in range(2, num):\n",
        "    if (num % i == 0):\n",
        "      divisor = divisor + 1\n",
        "  if divisor == 0 and num>1:\n",
        "    print(num)"
      ],
      "metadata": {
        "id": "HIP8GBwdo1BL",
        "colab": {
          "base_uri": "https://localhost:8080/"
        },
        "outputId": "fa417622-f306-4b76-e52b-98208651b482"
      },
      "execution_count": null,
      "outputs": [
        {
          "output_type": "stream",
          "name": "stdout",
          "text": [
            "Enter the starting number of the range: 15\n",
            "Enter the ending number of the range: 23\n",
            "Prime numbers within the range 15 to 23 are:\n",
            "17\n",
            "19\n",
            "23\n"
          ]
        }
      ]
    },
    {
      "cell_type": "markdown",
      "source": [
        "**18 You will be given an integer N and then N numbers. Write a program to find the average\n",
        "of these numbers.**"
      ],
      "metadata": {
        "id": "6wfbvFXGpBKF"
      }
    },
    {
      "cell_type": "code",
      "source": [
        "N = int(input(\"Enter the number of elements: \"))\n",
        "\n",
        "total = 0\n",
        "\n",
        "for i in range(N):\n",
        "    number = int(input(\"Enter a number: \"))\n",
        "    total += number\n",
        "\n",
        "if N > 0:\n",
        "    average = total / N\n",
        "    print(\"The average is:\", average)\n"
      ],
      "metadata": {
        "id": "1_1aTQdWREAx",
        "colab": {
          "base_uri": "https://localhost:8080/"
        },
        "outputId": "5775f54d-95c1-4050-f06e-c4d03df0bf0b"
      },
      "execution_count": 13,
      "outputs": [
        {
          "output_type": "stream",
          "name": "stdout",
          "text": [
            "Enter the number of elements: 2\n",
            "Enter a number: 5\n",
            "Enter a number: 8\n",
            "The average is: 6.5\n"
          ]
        }
      ]
    },
    {
      "cell_type": "markdown",
      "source": [
        "**19 Let’s assume a series as: 1+3+5+7+ ... + N. You will be given N as input. Write a\n",
        "program that can print the sum of this series up to N.**"
      ],
      "metadata": {
        "id": "56oSFqj-pFfg"
      }
    },
    {
      "cell_type": "code",
      "source": [
        "N=(int)(input(\"Enter the value of N: \"))\n",
        "sum= 0\n",
        "for i in range(1,N+1,2):\n",
        "  sum= sum+i\n",
        "print(\"Sum of the Series: \", sum)"
      ],
      "metadata": {
        "id": "tx7XffZXSBrh"
      },
      "execution_count": null,
      "outputs": []
    },
    {
      "cell_type": "markdown",
      "source": [
        "**20 You are given three integers: a, b & c. Write a program to find the minimum of these\n",
        "three numbers.**"
      ],
      "metadata": {
        "id": "M4xiFz0hpJ8Y"
      }
    },
    {
      "cell_type": "code",
      "source": [
        "a=(int)(input(\"Enter the value of a: \"))\n",
        "b=(int)(input(\"Enter the value of b: \"))\n",
        "c=(int)(input(\"Enter the value of c: \"))\n",
        "\n",
        "if a<b and a<c:\n",
        "  print(\"Minimum: \", a)\n",
        "elif b<a and b<c:\n",
        "  print(\"Minimum: \", b)\n",
        "else:\n",
        "  print(\"Minimum: \", c)"
      ],
      "metadata": {
        "id": "Op8Cn-SHYd7h"
      },
      "execution_count": null,
      "outputs": []
    },
    {
      "cell_type": "markdown",
      "source": [
        "**21 You will be given an integer N and then N numbers. Write a program to find the\n",
        "maximum value of those numbers.**"
      ],
      "metadata": {
        "id": "XNquhe9NpOGA"
      }
    },
    {
      "cell_type": "code",
      "source": [
        "N = int(input(\"Enter the number of elements: \"))\n",
        "numbers = []\n",
        "for i in range(N):\n",
        "    number = int(input(\"Enter a number: \"))\n",
        "    numbers.append(number)\n",
        "\n",
        "if numbers:\n",
        "    print(\"The maximum value is:\", max(numbers))\n",
        "else:\n",
        "    print(\"No numbers were entered.\")"
      ],
      "metadata": {
        "id": "KVyyl_rZZn3z",
        "colab": {
          "base_uri": "https://localhost:8080/"
        },
        "outputId": "9f30d15e-b2e3-4261-944f-9b48e88fff5c"
      },
      "execution_count": 18,
      "outputs": [
        {
          "output_type": "stream",
          "name": "stdout",
          "text": [
            "Enter the number of elements: 5\n",
            "Enter a number: 2\n",
            "Enter a number: 3\n",
            "Enter a number: 3\n",
            "Enter a number: 5\n",
            "Enter a number: 6\n",
            "The maximum value is: 6\n"
          ]
        }
      ]
    },
    {
      "cell_type": "markdown",
      "source": [
        "**22 Write a program to swap the values of two variables.**"
      ],
      "metadata": {
        "id": "5YuYffxwpRMo"
      }
    },
    {
      "cell_type": "code",
      "source": [
        "a = (int)(input(\"Enter the value of a: \"))\n",
        "b = (int)(input(\"Enter the value of b: \"))\n",
        "\n",
        "temp = a\n",
        "a = b\n",
        "b = temp\n",
        "\n",
        "print(\"After swapping:\")\n",
        "print(\"a =\", a)\n",
        "print(\"b =\", b)"
      ],
      "metadata": {
        "id": "JrVm_38tdTAR"
      },
      "execution_count": null,
      "outputs": []
    },
    {
      "cell_type": "markdown",
      "source": [
        "**23 You will be given 2 3X3 matrices. Write a program to add the matrices**"
      ],
      "metadata": {
        "id": "uOHpZSp5pUu6"
      }
    },
    {
      "cell_type": "code",
      "source": [
        "x= [[1,2,3],\n",
        "    [4,5,6],\n",
        "    [7,8,9]]\n",
        "\n",
        "y= [[10,11,12],\n",
        "    [13,14,15],\n",
        "    [16,17,18]]\n",
        "result= [[0,0,0],\n",
        "         [0,0,0],\n",
        "         [0,0,0]]\n",
        "\n",
        "for i in range(len(x)):\n",
        "  for j in range(len(x[0])):\n",
        "    result[i][j] = x[i][j] + y[i][j]\n",
        "\n",
        "for r in result:\n",
        "  print(r)"
      ],
      "metadata": {
        "id": "-K6cpNm5fBlg",
        "colab": {
          "base_uri": "https://localhost:8080/"
        },
        "outputId": "876df143-f5c2-4836-85d0-26c713f966f9"
      },
      "execution_count": 6,
      "outputs": [
        {
          "output_type": "stream",
          "name": "stdout",
          "text": [
            "[11, 13, 15]\n",
            "[17, 19, 21]\n",
            "[23, 25, 27]\n"
          ]
        }
      ]
    },
    {
      "cell_type": "markdown",
      "source": [
        "**24 You will be given an integer N and then N numbers. Write a program to find the mean\n",
        "deviation of those numbers.**"
      ],
      "metadata": {
        "id": "k5xLKz8jpYDD"
      }
    },
    {
      "cell_type": "code",
      "source": [
        "N = int(input(\"Enter the number of elements: \"))\n",
        "\n",
        "numbers = [int(input(\"Enter a number: \")) for i in range(N)]\n",
        "\n",
        "if N > 0:\n",
        "\n",
        "    mean = sum(numbers) / N\n",
        "    mean_deviation = sum(abs(num - mean) for num in numbers) / N\n",
        "    print(\"The mean deviation is:\", mean_deviation)"
      ],
      "metadata": {
        "id": "CWdBtNsdfUNI",
        "colab": {
          "base_uri": "https://localhost:8080/"
        },
        "outputId": "e6e0f830-aa20-40f9-8450-0a2fe6151f9d"
      },
      "execution_count": 25,
      "outputs": [
        {
          "output_type": "stream",
          "name": "stdout",
          "text": [
            "Enter the number of elements: 5\n",
            "Enter a number: 2\n",
            "Enter a number: 3\n",
            "Enter a number: 5\n",
            "Enter a number: 6\n",
            "Enter a number: 5\n",
            "The mean deviation is: 1.3599999999999999\n"
          ]
        }
      ]
    },
    {
      "cell_type": "code",
      "source": [],
      "metadata": {
        "id": "3hew-B6nmb_Q"
      },
      "execution_count": null,
      "outputs": []
    }
  ]
}